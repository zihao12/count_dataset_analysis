{
 "cells": [
  {
   "cell_type": "code",
   "execution_count": 12,
   "metadata": {},
   "outputs": [
    {
     "ename": "ValueError",
     "evalue": "shapes (7,) and (39602,) not aligned: 7 (dim 0) != 39602 (dim 0)",
     "output_type": "error",
     "traceback": [
      "\u001b[0;31m---------------------------------------------------------------------------\u001b[0m",
      "\u001b[0;31mValueError\u001b[0m                                Traceback (most recent call last)",
      "\u001b[0;32m<ipython-input-12-8c7af3ee90fb>\u001b[0m in \u001b[0;36m<module>\u001b[0;34m()\u001b[0m\n\u001b[1;32m      8\u001b[0m \u001b[0mF\u001b[0m \u001b[0;34m=\u001b[0m \u001b[0mnp\u001b[0m\u001b[0;34m.\u001b[0m\u001b[0mgenfromtxt\u001b[0m\u001b[0;34m(\u001b[0m\u001b[0;34m\"{}/F_nmfkl_K{}.csv\"\u001b[0m\u001b[0;34m.\u001b[0m\u001b[0mformat\u001b[0m\u001b[0;34m(\u001b[0m\u001b[0mprefix\u001b[0m\u001b[0;34m,\u001b[0m\u001b[0;36m2\u001b[0m\u001b[0;34m)\u001b[0m\u001b[0;34m)\u001b[0m\u001b[0;34m\u001b[0m\u001b[0;34m\u001b[0m\u001b[0m\n\u001b[1;32m      9\u001b[0m \u001b[0;34m\u001b[0m\u001b[0m\n\u001b[0;32m---> 10\u001b[0;31m \u001b[0mpp\u001b[0m \u001b[0;34m=\u001b[0m \u001b[0mY\u001b[0m \u001b[0;34m*\u001b[0m \u001b[0mnp\u001b[0m\u001b[0;34m.\u001b[0m\u001b[0mlog\u001b[0m\u001b[0;34m(\u001b[0m\u001b[0mL\u001b[0m\u001b[0;34m.\u001b[0m\u001b[0mdot\u001b[0m\u001b[0;34m(\u001b[0m\u001b[0mF\u001b[0m\u001b[0;34m.\u001b[0m\u001b[0mT\u001b[0m\u001b[0;34m)\u001b[0m\u001b[0;34m)\u001b[0m\u001b[0;34m\u001b[0m\u001b[0;34m\u001b[0m\u001b[0m\n\u001b[0m\u001b[1;32m     11\u001b[0m \u001b[0;34m\u001b[0m\u001b[0m\n\u001b[1;32m     12\u001b[0m \u001b[0mprint\u001b[0m\u001b[0;34m(\u001b[0m\u001b[0mnp\u001b[0m\u001b[0;34m.\u001b[0m\u001b[0misnan\u001b[0m\u001b[0;34m(\u001b[0m\u001b[0mpp\u001b[0m\u001b[0;34m)\u001b[0m\u001b[0;34m.\u001b[0m\u001b[0msum\u001b[0m\u001b[0;34m(\u001b[0m\u001b[0;34m)\u001b[0m\u001b[0;34m)\u001b[0m\u001b[0;34m\u001b[0m\u001b[0;34m\u001b[0m\u001b[0m\n",
      "\u001b[0;31mValueError\u001b[0m: shapes (7,) and (39602,) not aligned: 7 (dim 0) != 39602 (dim 0)"
     ]
    }
   ],
   "source": [
    "import pandas as pd\n",
    "import numpy as np\n",
    "import matplotlib.pyplot as plt\n",
    "\n",
    "prefix = \"gtex_fallopian_tube\"\n",
    "Y = np.genfromtxt(\"{}/Y.csv\".format(prefix))\n",
    "L = np.genfromtxt(\"{}/L_nmfkl_K{}.csv\".format(prefix,2))\n",
    "F = np.genfromtxt(\"{}/F_nmfkl_K{}.csv\".format(prefix,2))\n",
    "\n",
    "pp = Y * np.log(L.dot(F.T))\n",
    "\n",
    "print(np.isnan(pp).sum())"
   ]
  },
  {
   "cell_type": "code",
   "execution_count": 13,
   "metadata": {},
   "outputs": [
    {
     "data": {
      "text/plain": [
       "'gtex_fallopian_tube/Y.csv'"
      ]
     },
     "execution_count": 13,
     "metadata": {},
     "output_type": "execute_result"
    }
   ],
   "source": [
    "\"{}/Y.csv\".format(prefix)"
   ]
  },
  {
   "cell_type": "code",
   "execution_count": 6,
   "metadata": {},
   "outputs": [],
   "source": [
    "\n",
    "# def read_gtex(prefix):\n",
    "#     counts = pd.read_csv(\"{}/counts.csv\".format(prefix),  header=None)\n",
    "#     counts = counts[:, counts.mean(axis = 0) > 0]\n",
    "#     return counts"
   ]
  },
  {
   "cell_type": "code",
   "execution_count": 16,
   "metadata": {},
   "outputs": [
    {
     "data": {
      "text/plain": [
       "array([nan, nan, nan, ..., nan, nan, nan])"
      ]
     },
     "execution_count": 16,
     "metadata": {},
     "output_type": "execute_result"
    }
   ],
   "source": [
    "F"
   ]
  },
  {
   "cell_type": "code",
   "execution_count": 8,
   "metadata": {},
   "outputs": [
    {
     "data": {
      "text/plain": [
       "(7,)"
      ]
     },
     "execution_count": 8,
     "metadata": {},
     "output_type": "execute_result"
    }
   ],
   "source": [
    "Y.shape"
   ]
  },
  {
   "cell_type": "code",
   "execution_count": 44,
   "metadata": {},
   "outputs": [
    {
     "data": {
      "text/plain": [
       "array([nan, nan, nan, nan, nan, nan, nan])"
      ]
     },
     "execution_count": 44,
     "metadata": {},
     "output_type": "execute_result"
    }
   ],
   "source": [
    "Y"
   ]
  },
  {
   "cell_type": "code",
   "execution_count": 25,
   "metadata": {},
   "outputs": [
    {
     "data": {
      "text/plain": [
       "(1, 55721)"
      ]
     },
     "execution_count": 25,
     "metadata": {},
     "output_type": "execute_result"
    }
   ],
   "source": [
    "keep_gene[None,:].shape"
   ]
  },
  {
   "cell_type": "code",
   "execution_count": 28,
   "metadata": {},
   "outputs": [
    {
     "data": {
      "text/plain": [
       "(7, 39602)"
      ]
     },
     "execution_count": 28,
     "metadata": {},
     "output_type": "execute_result"
    }
   ],
   "source": [
    "counts = out.values\n",
    "counts.shape\n",
    "# # keep_sample = counts.mean(axis = 1) > 0\n",
    "# # counts = counts[keep_sample]\n",
    "# print(counts.shape)\n",
    "# keep_gene = counts.mean(axis = 0) > 0\n",
    "# counts = counts[keep_gene[None,:]]\n",
    "# print(counts.shape)\n",
    "\n",
    "counts[:, counts.mean(axis = 0) > 0].shape\n"
   ]
  },
  {
   "cell_type": "code",
   "execution_count": 36,
   "metadata": {},
   "outputs": [
    {
     "data": {
      "image/png": "[encoded data removed]",
      "text/plain": [
       "<Figure size 432x288 with 1 Axes>"
      ]
     },
     "metadata": {},
     "output_type": "display_data"
    }
   ],
   "source": [
    "plt.hist(np.log(counts.sum(axis = 0) + 1), bins = 100)\n",
    "plt.show()"
   ]
  },
  {
   "cell_type": "code",
   "execution_count": 20,
   "metadata": {},
   "outputs": [
    {
     "data": {
      "text/plain": [
       "0         True\n",
       "1         True\n",
       "2         True\n",
       "3         True\n",
       "4        False\n",
       "5         True\n",
       "6         True\n",
       "7         True\n",
       "8         True\n",
       "9         True\n",
       "10        True\n",
       "11        True\n",
       "12        True\n",
       "13        True\n",
       "14        True\n",
       "15        True\n",
       "16        True\n",
       "17        True\n",
       "18        True\n",
       "19        True\n",
       "20       False\n",
       "21       False\n",
       "22        True\n",
       "23        True\n",
       "24        True\n",
       "25        True\n",
       "26        True\n",
       "27        True\n",
       "28        True\n",
       "29        True\n",
       "         ...  \n",
       "55691     True\n",
       "55692     True\n",
       "55693     True\n",
       "55694     True\n",
       "55695     True\n",
       "55696     True\n",
       "55697     True\n",
       "55698     True\n",
       "55699     True\n",
       "55700     True\n",
       "55701     True\n",
       "55702     True\n",
       "55703     True\n",
       "55704     True\n",
       "55705     True\n",
       "55706     True\n",
       "55707     True\n",
       "55708     True\n",
       "55709     True\n",
       "55710     True\n",
       "55711     True\n",
       "55712     True\n",
       "55713     True\n",
       "55714     True\n",
       "55715     True\n",
       "55716     True\n",
       "55717     True\n",
       "55718     True\n",
       "55719     True\n",
       "55720     True\n",
       "Length: 55721, dtype: bool"
      ]
     },
     "execution_count": 20,
     "metadata": {},
     "output_type": "execute_result"
    }
   ],
   "source": [
    "keep_gene"
   ]
  },
  {
   "cell_type": "code",
   "execution_count": 7,
   "metadata": {},
   "outputs": [],
   "source": [
    "keep = keep_sample[:,None].dot(keep_gene[None,:])"
   ]
  },
  {
   "cell_type": "code",
   "execution_count": null,
   "metadata": {},
   "outputs": [],
   "source": [
    "counts_ = counts[keep]"
   ]
  },
  {
   "cell_type": "code",
   "execution_count": null,
   "metadata": {},
   "outputs": [],
   "source": []
  },
  {
   "cell_type": "code",
   "execution_count": 14,
   "metadata": {},
   "outputs": [
    {
     "name": "stdout",
     "output_type": "stream",
     "text": [
      "gtex_adipose_tissue\n",
      "gtex_adrenal_gland\n",
      "gtex_bladder\n",
      "gtex_blood\n",
      "gtex_blood_vessel\n",
      "gtex_brain\n",
      "gtex_breast\n",
      "gtex_cervix_uteri\n",
      "gtex_colon\n",
      "gtex_esophagus\n",
      "gtex_fallopian_tube\n",
      "gtex_heart\n",
      "gtex_kidney\n",
      "gtex_liver\n",
      "gtex_lung\n",
      "gtex_muscle\n",
      "gtex_nerve\n",
      "gtex_ovary\n",
      "gtex_pancreas\n",
      "gtex_pituitary\n",
      "gtex_prostate\n",
      "gtex_random_1000\n",
      "gtex_salivary_gland\n",
      "gtex_skin\n",
      "gtex_small_intestine\n",
      "gtex_spleen\n",
      "gtex_stomach\n",
      "gtex_testis\n",
      "gtex_thyroid\n",
      "gtex_uterus\n",
      "gtex_vagina\n"
     ]
    }
   ],
   "source": [
    "import os\n",
    "import pandas as pd\n",
    "\n",
    "file_names = pd.read_csv(\"names.txt\",header = None)\n",
    "file_names = file_names.iloc[:,0].tolist()\n",
    "\n",
    "for name in file_names:\n",
    "    folder_name = name.split(\".\")[0]\n",
    "#     os.system(\"mkdir {}\".format(folder_name))\n",
    "#     os.system(\"mv {} {}\".format(name, folder_name))\n",
    "    print(folder_name)\n"
   ]
  },
  {
   "cell_type": "code",
   "execution_count": 7,
   "metadata": {},
   "outputs": [
    {
     "data": {
      "text/plain": [
       "['gtex_adipose_tissue.csv',\n",
       " 'gtex_adrenal_gland.csv',\n",
       " 'gtex_bladder.csv',\n",
       " 'gtex_blood.csv',\n",
       " 'gtex_blood_vessel.csv',\n",
       " 'gtex_brain.csv',\n",
       " 'gtex_breast.csv',\n",
       " 'gtex_cervix_uteri.csv',\n",
       " 'gtex_colon.csv',\n",
       " 'gtex_esophagus.csv',\n",
       " 'gtex_fallopian_tube.csv',\n",
       " 'gtex_heart.csv',\n",
       " 'gtex_kidney.csv',\n",
       " 'gtex_liver.csv',\n",
       " 'gtex_lung.csv',\n",
       " 'gtex_muscle.csv',\n",
       " 'gtex_nerve.csv',\n",
       " 'gtex_ovary.csv',\n",
       " 'gtex_pancreas.csv',\n",
       " 'gtex_pituitary.csv',\n",
       " 'gtex_random_1000.csv',\n",
       " 'gtex_salivary_gland.csv',\n",
       " 'gtex_skin.csv']"
      ]
     },
     "execution_count": 7,
     "metadata": {},
     "output_type": "execute_result"
    }
   ],
   "source": []
  },
  {
   "cell_type": "code",
   "execution_count": null,
   "metadata": {},
   "outputs": [],
   "source": []
  }
 ],
 "metadata": {
  "kernelspec": {
   "display_name": "Python 3",
   "language": "python",
   "name": "python3"
  },
  "language_info": {
   "codemirror_mode": {
    "name": "ipython",
    "version": 3
   },
   "file_extension": ".py",
   "mimetype": "text/x-python",
   "name": "python",
   "nbconvert_exporter": "python",
   "pygments_lexer": "ipython3",
   "version": "3.6.8"
  }
 },
 "nbformat": 4,
 "nbformat_minor": 2
}
